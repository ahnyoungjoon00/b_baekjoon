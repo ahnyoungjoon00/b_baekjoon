{
 "cells": [
  {
   "cell_type": "markdown",
   "metadata": {},
   "source": [
    "# 알고리즘 수업 - 알고리즘의 수행 시간 1\n",
    "- 오늘도 서준이는 알고리즘의 수행시간 수업 조교를 하고 있다. 아빠가 수업한 내용을 학생들이 잘 이해했는지 문제를 통해서 확인해보자.\n",
    "\n",
    "- 입력의 크기 n이 주어지면 MenOfPassion 알고리즘 수행 시간을 예제 출력과 같은 방식으로 출력해보자.\n",
    "\n",
    "- MenOfPassion 알고리즘은 다음과 같다.\n",
    "\n",
    "### **Big-O notation**\n",
    "- ( O(1) < O(logN), < O(N) < O(NlogN) < O(n\\**2) < O(n\\**3) < O(2\\**n))"
   ]
  },
  {
   "cell_type": "markdown",
   "metadata": {},
   "source": [
    "MenOfPassion(A[], n) {    \n",
    "    i = ⌊n / 2⌋;   \n",
    "    return A[i]; # 코드1   \n",
    "}   "
   ]
  },
  {
   "cell_type": "code",
   "execution_count": 19,
   "metadata": {},
   "outputs": [],
   "source": [
    "# 해당 의사코드(pseudocode)를 파이썬 함수화화\n",
    "def menofpassion(A, n) :\n",
    "    i = n//2\n",
    "    return A[i] # 코드 1\n",
    "\n",
    "# A = [10, 20, 30, 40, 50]  # 인덱스 0~4\n",
    "# n = len(A)  # 배열 길이\n",
    "# menofpassion(A, n)\n",
    "\n",
    "# A리스트와 정수n을 입력 후, \n",
    "# n을 2로 나눈 몫 i를 인덱스를 가진 \n",
    "# A리스트의 A[i]값을 return"
   ]
  },
  {
   "cell_type": "code",
   "execution_count": 6,
   "metadata": {},
   "outputs": [
    {
     "name": "stdout",
     "output_type": "stream",
     "text": [
      "결과: 30\n",
      "연산 수행 횟수: 4\n"
     ]
    }
   ],
   "source": [
    "import sys\n",
    "\n",
    "count = 0  # 연산 횟수 저장\n",
    "\n",
    "def trace_function(frame, event, arg):\n",
    "    global count\n",
    "    if frame.f_code.co_name == \"MenOfPassion\" and event == \"line\":\n",
    "        count += 1\n",
    "    return trace_function\n",
    "\n",
    "sys.settrace(trace_function)  # 트레이서 설정\n",
    "\n",
    "def MenOfPassion(A, n):\n",
    "    i = n // 2  # 연산 1회\n",
    "    pass  # 실행되지만 아무 연산도 하지 않음 (라인은 증가)\n",
    "    a = 1  # 변수 할당 (연산 1회)\n",
    "    return A[i]  # 리스트 접근 (연산 1회)\n",
    "\n",
    "A = [10, 20, 30, 40, 50]\n",
    "n = len(A)\n",
    "\n",
    "result = MenOfPassion(A, n)\n",
    "sys.settrace(None)  # 트레이서 해제\n",
    "\n",
    "print(\"결과:\", result)\n",
    "print(\"연산 수행 횟수:\", count)  # 예상 출력: 연산 수행 횟수: 2\n"
   ]
  },
  {
   "cell_type": "code",
   "execution_count": null,
   "metadata": {},
   "outputs": [
    {
     "name": "stdout",
     "output_type": "stream",
     "text": [
      "7 <class 'int'>\n"
     ]
    }
   ],
   "source": [
    "n = int(input())\n"
   ]
  },
  {
   "cell_type": "markdown",
   "metadata": {},
   "source": [
    "# 알고리즘 수업 - 알고리즘의 수행 시간 2\n",
    "- 오늘도 서준이는 알고리즘의 수행시간 수업 조교를 하고 있다. 아빠가 수업한 내용을 학생들이 잘 이해했는지 문제를 통해서 확인해보자.\n",
    "\n",
    "- 입력의 크기 n이 주어지면 MenOfPassion 알고리즘 수행 시간을 예제 출력과 같은 방식으로 출력해보자.\n",
    "\n",
    "- MenOfPassion 알고리즘은 다음과 같다.\n",
    "\n",
    "### **Big-O notation**\n",
    "- ( O(1) < O(logN), < O(N) < O(NlogN) < O(n\\**2) < O(n\\**3) < O(2\\**n))"
   ]
  },
  {
   "cell_type": "code",
   "execution_count": 26,
   "metadata": {},
   "outputs": [
    {
     "name": "stdout",
     "output_type": "stream",
     "text": [
      "7\n",
      "1\n"
     ]
    }
   ],
   "source": [
    "# MenOfPassion(A[], n) {\n",
    "#     sum <- 0;\n",
    "#     for i <- 1 to n\n",
    "#         sum <- sum + A[i]; # 코드1\n",
    "#     return sum;\n",
    "# }\n",
    "### for 반복문 안에서 n번 반복 수행\n",
    "### 1중 for문은 반복 횟수 * 1회 수행 시간인 선형함수형태 - O(N) : t*n(1차함수)\n",
    "n = int(input())\n",
    "print(n)\n",
    "print(1)"
   ]
  },
  {
   "cell_type": "code",
   "execution_count": 25,
   "metadata": {},
   "outputs": [
    {
     "data": {
      "text/plain": [
       "(28, 7)"
      ]
     },
     "execution_count": 25,
     "metadata": {},
     "output_type": "execute_result"
    }
   ],
   "source": [
    "A = [0, 1, 2, 3, 4, 5, 6, 7, 8, 9, 10]\n",
    "n = 7\n",
    "def MenOfPassion(A, n) :\n",
    "    sum = 0\n",
    "    count = 0\n",
    "    for i in range(1, n+1):\n",
    "        sum += A[i]\n",
    "        count += 1\n",
    "    return sum, count\n",
    "MenOfPassion(A, n)"
   ]
  },
  {
   "cell_type": "markdown",
   "metadata": {},
   "source": [
    "# 알고리즘 수업 - 알고리즘의 수행 시간 3\n",
    "- 오늘도 서준이는 알고리즘의 수행시간 수업 조교를 하고 있다. 아빠가 수업한 내용을 학생들이 잘 이해했는지 문제를 통해서 확인해보자.\n",
    "\n",
    "- 입력의 크기 n이 주어지면 MenOfPassion 알고리즘 수행 시간을 예제 출력과 같은 방식으로 출력해보자.\n",
    "\n",
    "- MenOfPassion 알고리즘은 다음과 같다.\n",
    "\n",
    "### **Big-O notation**\n",
    "- ( O(1) < O(logN), < O(N) < O(NlogN) < O(n\\**2) < O(n\\**3) < O(2\\**n))"
   ]
  },
  {
   "cell_type": "code",
   "execution_count": 28,
   "metadata": {},
   "outputs": [
    {
     "name": "stdout",
     "output_type": "stream",
     "text": [
      "49\n",
      "2\n"
     ]
    }
   ],
   "source": [
    "# MenOfPassion(A[], n) {\n",
    "#     sum <- 0;\n",
    "#     for i <- 1 to n\n",
    "#         for j <- 1 to n\n",
    "#             sum <- sum + A[i] × A[j]; # 코드1\n",
    "#     return sum;\n",
    "# }\n",
    "\n",
    "### 2중 for 반복문 안에서 n**2번 반복 수행\n",
    "### 2중 for문은 O(n**2)의 수행속도 : t*n**2 형태의 2차함수\n",
    "n = int(input())\n",
    "print(n**2)\n",
    "print(2)"
   ]
  },
  {
   "cell_type": "code",
   "execution_count": 34,
   "metadata": {},
   "outputs": [
    {
     "data": {
      "text/plain": [
       "(784, 49)"
      ]
     },
     "execution_count": 34,
     "metadata": {},
     "output_type": "execute_result"
    }
   ],
   "source": [
    "A = [0, 1, 2, 3, 4, 5, 6, 7, 8, 9, 10]\n",
    "n = 7\n",
    "def MenOfPassion(A, n) :\n",
    "    sum = 0\n",
    "    count = 0\n",
    "    for i in range(1, n+1):\n",
    "        for j in range(1, n+1) :\n",
    "            sum += A[i]*A[j]\n",
    "            count += 1\n",
    "    return sum, count\n",
    "MenOfPassion(A, n)"
   ]
  },
  {
   "cell_type": "markdown",
   "metadata": {},
   "source": [
    "# 알고리즘 수업 - 알고리즘의 수행 시간 4\n",
    "- 오늘도 서준이는 알고리즘의 수행시간 수업 조교를 하고 있다. 아빠가 수업한 내용을 학생들이 잘 이해했는지 문제를 통해서 확인해보자.\n",
    "\n",
    "- 입력의 크기 n이 주어지면 MenOfPassion 알고리즘 수행 시간을 예제 출력과 같은 방식으로 출력해보자.\n",
    "\n",
    "- MenOfPassion 알고리즘은 다음과 같다.\n",
    "\n",
    "### **Big-O notation**\n",
    "- ( O(1) < O(logN), < O(N) < O(NlogN) < O(n\\**2) < O(n\\**3) < O(2\\**n))"
   ]
  },
  {
   "cell_type": "code",
   "execution_count": null,
   "metadata": {},
   "outputs": [],
   "source": [
    "# MenOfPassion(A[], n) {\n",
    "#     sum <- 0;\n",
    "#     for i <- 1 to n - 1\n",
    "#         for j <- i + 1 to n\n",
    "#             sum <- sum + A[i] × A[j]; # 코드1\n",
    "#     return sum;\n",
    "# }"
   ]
  },
  {
   "cell_type": "code",
   "execution_count": null,
   "metadata": {},
   "outputs": [],
   "source": [
    "def MenOfPassion(A, n) :\n",
    "    sum = 0\n",
    "    count = 0\n",
    "    for i in range(1, n+1):\n",
    "        for j in range(1, n+1) :\n",
    "            sum += A[i]*A[j]\n",
    "            count += 1\n",
    "    return sum, count\n",
    "MenOfPassion(A, n)"
   ]
  }
 ],
 "metadata": {
  "kernelspec": {
   "display_name": "ohio",
   "language": "python",
   "name": "python3"
  },
  "language_info": {
   "codemirror_mode": {
    "name": "ipython",
    "version": 3
   },
   "file_extension": ".py",
   "mimetype": "text/x-python",
   "name": "python",
   "nbconvert_exporter": "python",
   "pygments_lexer": "ipython3",
   "version": "3.12.4"
  }
 },
 "nbformat": 4,
 "nbformat_minor": 2
}
