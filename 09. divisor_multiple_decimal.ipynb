{
 "cells": [
  {
   "cell_type": "markdown",
   "metadata": {},
   "source": [
    "# 배수와 약수\n",
    "- 4 × 3 = 12이다.\n",
    "\n",
    "이 식을 통해 다음과 같은 사실을 알 수 있다.\n",
    "\n",
    "    - 3은 12의 약수이고, 12는 3의 배수이다.\n",
    "    - 4도 12의 약수이고, 12는 4의 배수이다.\n",
    "\n",
    "- 두 수가 주어졌을 때, 다음 3가지 중 어떤 관계인지 구하는 프로그램을 작성하시오.\n",
    "\n",
    "    - 첫 번째 숫자가 두 번째 숫자의 약수이다.\n",
    "    - 첫 번째 숫자가 두 번째 숫자의 배수이다.\n",
    "    - 첫 번째 숫자가 두 번째 숫자의 약수와 배수 모두 아니다."
   ]
  },
  {
   "cell_type": "code",
   "execution_count": 5,
   "metadata": {},
   "outputs": [
    {
     "name": "stdout",
     "output_type": "stream",
     "text": [
      "factor\n",
      "multiple\n",
      "neither\n"
     ]
    }
   ],
   "source": [
    "while True :\n",
    "    try :\n",
    "        a, b = map(int, input().split())\n",
    "\n",
    "        if a == 0 or b == 0 :\n",
    "            continue\n",
    "        \n",
    "        if a < b and b%a == 0 :\n",
    "            print(\"factor\")\n",
    "        elif a > b and a%b == 0 :\n",
    "            print(\"multiple\")\n",
    "        else :\n",
    "            print(\"neither\")\n",
    "    except :\n",
    "        break"
   ]
  },
  {
   "cell_type": "markdown",
   "metadata": {},
   "source": [
    "# 약수 구하기\n",
    "- 어떤 자연수 p와 q가 있을 때, 만일 p를 q로 나누었을 때 나머지가 0이면 q는 p의 약수이다. \n",
    "\n",
    "- 6을 예로 들면\n",
    "    - 6 ÷ 1 = 6 … 0\n",
    "    - 6 ÷ 2 = 3 … 0\n",
    "    - 6 ÷ 3 = 2 … 0\n",
    "    - 6 ÷ 4 = 1 … 2\n",
    "    - 6 ÷ 5 = 1 … 1\n",
    "    - 6 ÷ 6 = 1 … 0\n",
    "- 그래서 6의 약수는 1, 2, 3, 6, 총 네 개이다.\n",
    "\n",
    "- 두 개의 자연수 N과 K가 주어졌을 때, N의 약수들 중 K번째로 작은 수를 출력하는 프로그램을 작성하시오."
   ]
  },
  {
   "cell_type": "code",
   "execution_count": 42,
   "metadata": {},
   "outputs": [
    {
     "name": "stdout",
     "output_type": "stream",
     "text": [
      "0\n"
     ]
    }
   ],
   "source": [
    "n, k = map(int, input().split())\n",
    "factor = []\n",
    "for i in range(1, n+1):\n",
    "        if n%i == 0 :\n",
    "              factor.append(i)\n",
    "        if len(factor) == k :\n",
    "            print(factor[-1])\n",
    "            break\n",
    "else :\n",
    "    print(0)"
   ]
  },
  {
   "cell_type": "markdown",
   "metadata": {},
   "source": [
    "# 약수들의 합\n",
    "- 어떤 숫자 n이 자신을 제외한 모든 약수들의 합과 같으면, 그 수를 완전수라고 한다.\n",
    "\n",
    "- 예를 들어 6은 6 = 1 + 2 + 3 으로 완전수이다.\n",
    "\n",
    "- n이 완전수인지 아닌지 판단해주는 프로그램을 작성하라."
   ]
  },
  {
   "cell_type": "code",
   "execution_count": 29,
   "metadata": {},
   "outputs": [
    {
     "name": "stdout",
     "output_type": "stream",
     "text": [
      "6 = 1 + 2 + 3\n",
      "12 is NOT perfect.\n",
      "28 = 1 + 2 + 4 + 7 + 14\n"
     ]
    }
   ],
   "source": [
    "while True :\n",
    "    n = int(input())\n",
    "    if n == -1 :\n",
    "        break\n",
    "\n",
    "    factor = []\n",
    "    for i in range(1, n+1) :\n",
    "        if n%i == 0 :\n",
    "            factor.append(i)\n",
    "    if sum(factor[:-1]) != n :\n",
    "        print(f'{n} is NOT perfect.')\n",
    "    else :\n",
    "        print(f\"{n} =\", ' + '.join(map(str, factor[:-1])))"
   ]
  },
  {
   "cell_type": "markdown",
   "metadata": {},
   "source": [
    "# 소수 찾기\n",
    "- 주어진 수 N개 중에서 소수가 몇 개인지 찾아서 출력하는 프로그램을 작성하시오."
   ]
  },
  {
   "cell_type": "code",
   "execution_count": 32,
   "metadata": {},
   "outputs": [
    {
     "name": "stdout",
     "output_type": "stream",
     "text": [
      "3\n"
     ]
    }
   ],
   "source": [
    "n = int(input())\n",
    "lst = list(map(int, input().split()))\n",
    "\n",
    "count = 0\n",
    "for i in lst :\n",
    "    factor = []\n",
    "    for j in range(1, i+1) :\n",
    "        if i%j == 0 :\n",
    "            factor.append(j)\n",
    "    if len(factor) == 2 :\n",
    "        count += 1\n",
    "print(count)"
   ]
  },
  {
   "cell_type": "markdown",
   "metadata": {},
   "source": [
    "# 소수\n",
    "- 자연수 M과 N이 주어질 때 M이상 N이하의 자연수 중 소수인 것을 모두 골라 이들 소수의 합과 최솟값을 찾는 프로그램을 작성하시오.\n",
    "\n",
    "- 예를 들어 M=60, N=100인 경우 60이상 100이하의 자연수 중 소수는 61, 67, 71, 73, 79, 83, 89, 97 총 8개가 있으므로, 이들 소수의 합은 620이고, 최솟값은 61이 된다."
   ]
  },
  {
   "cell_type": "code",
   "execution_count": 41,
   "metadata": {},
   "outputs": [
    {
     "name": "stdout",
     "output_type": "stream",
     "text": [
      "620\n",
      "61\n"
     ]
    }
   ],
   "source": [
    "# 실행시간 단축 요망\n",
    "n = int(input())\n",
    "m = int(input())\n",
    "\n",
    "decimal = []\n",
    "for i in range(n, m+1) :\n",
    "    factor = 0\n",
    "    for j in range(2, i+1) :\n",
    "        if i%j == 0 :\n",
    "            factor += 1\n",
    "    if factor == 1 :\n",
    "        decimal.append(i)\n",
    "\n",
    "if len(decimal) == 0 :\n",
    "    print(-1)\n",
    "else :\n",
    "    print(sum(decimal))\n",
    "    print(min(decimal))"
   ]
  },
  {
   "cell_type": "markdown",
   "metadata": {},
   "source": [
    "# 소인수분해\n",
    "- 정수 N이 주어졌을 때, 소인수분해하는 프로그램을 작성하시오."
   ]
  },
  {
   "cell_type": "code",
   "execution_count": 62,
   "metadata": {},
   "outputs": [
    {
     "name": "stdout",
     "output_type": "stream",
     "text": [
      "2\n",
      "2\n",
      "2\n",
      "3\n",
      "3\n"
     ]
    }
   ],
   "source": [
    "n = int(input())\n",
    "\n",
    "while n > 1 :\n",
    "    for i in range(2, n+1) :\n",
    "        if n%i == 0 :\n",
    "            n = n//i\n",
    "            print(i)\n",
    "            break"
   ]
  }
 ],
 "metadata": {
  "kernelspec": {
   "display_name": "ohio",
   "language": "python",
   "name": "python3"
  },
  "language_info": {
   "codemirror_mode": {
    "name": "ipython",
    "version": 3
   },
   "file_extension": ".py",
   "mimetype": "text/x-python",
   "name": "python",
   "nbconvert_exporter": "python",
   "pygments_lexer": "ipython3",
   "version": "3.12.4"
  }
 },
 "nbformat": 4,
 "nbformat_minor": 2
}
