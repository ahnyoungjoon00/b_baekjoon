{
 "cells": [
  {
   "cell_type": "code",
   "execution_count": null,
   "metadata": {},
   "outputs": [],
   "source": [
    "# 진법 변환\n",
    "- B진법 수 N이 주어진다. 이 수를 10진법으로 바꿔 출력하는 프로그램을 작성하시오.\n",
    "\n",
    "- 10진법을 넘어가는 진법은 숫자로 표시할 수 없는 자리가 있다. 이런 경우에는 다음과 같이 알파벳 대문자를 사용한다.\n",
    "\n",
    "- A: 10, B: 11, ..., F: 15, ..., Y: 34, Z: 35"
   ]
  },
  {
   "cell_type": "code",
   "execution_count": 146,
   "metadata": {},
   "outputs": [
    {
     "name": "stdout",
     "output_type": "stream",
     "text": [
      "60466175\n"
     ]
    }
   ],
   "source": [
    "n, b = input().split()\n",
    "n = list(n)\n",
    "b = int(b)\n",
    "\n",
    "import string\n",
    "num_lst = list(range(0, 36))\n",
    "alp_lst = list(map(str, range(0, 10)))+list(string.ascii_uppercase)\n",
    "dic = dict(zip(alp_lst, num_lst))\n",
    "\n",
    "result = 0\n",
    "for i in range(1, len(n)+1) :\n",
    "    n[-i] = dic.get(n[-i], i)\n",
    "    result += n[-i]*b**(i-1)\n",
    "print(result)"
   ]
  },
  {
   "cell_type": "code",
   "execution_count": 149,
   "metadata": {},
   "outputs": [
    {
     "name": "stdout",
     "output_type": "stream",
     "text": [
      "60466175\n"
     ]
    }
   ],
   "source": [
    "n, b = input().split()\n",
    "print(int(n, int(b)))"
   ]
  },
  {
   "cell_type": "markdown",
   "metadata": {},
   "source": [
    "# 진법 변환 2\n",
    "- 10진법 수 N이 주어진다. 이 수를 B진법으로 바꿔 출력하는 프로그램을 작성하시오.\n",
    "\n",
    "- 10진법을 넘어가는 진법은 숫자로 표시할 수 없는 자리가 있다. 이런 경우에는 다음과 같이 알파벳 대문자를 사용한다.\n",
    "\n",
    "- A: 10, B: 11, ..., F: 15, ..., Y: 34, Z: 35"
   ]
  },
  {
   "cell_type": "code",
   "execution_count": 219,
   "metadata": {},
   "outputs": [
    {
     "name": "stdout",
     "output_type": "stream",
     "text": [
      "1OGTMO\n"
     ]
    }
   ],
   "source": [
    "n, b = map(int, input().split())\n",
    "\n",
    "import string\n",
    "num_lst = list(range(0, 36))\n",
    "alp_lst = list(map(str, range(0, 10)))+list(string.ascii_uppercase)\n",
    "dic = dict(zip(num_lst, alp_lst))\n",
    "\n",
    "result = []\n",
    "for i in range(n) :\n",
    "    j = n//(b**i)\n",
    "    if j == 0 :\n",
    "        break\n",
    "    k = dic.get(j%b, 0)\n",
    "    result.append(str(k))\n",
    "\n",
    "print(''.join(result[::-1]))"
   ]
  },
  {
   "cell_type": "code",
   "execution_count": 218,
   "metadata": {},
   "outputs": [
    {
     "name": "stdout",
     "output_type": "stream",
     "text": [
      "1OGTMO\n"
     ]
    }
   ],
   "source": [
    "n, b = map(int, input().split())\n",
    "\n",
    "import string\n",
    "num_lst = list(range(0, 36))\n",
    "alp_lst = list(map(str, range(0, 10)))+list(string.ascii_uppercase)\n",
    "dic = dict(zip(num_lst, alp_lst))\n",
    "\n",
    "result = []\n",
    "while n > 0 :\n",
    "    k = n%b\n",
    "    result.append(dic[k])\n",
    "    n = n//b\n",
    "\n",
    "print(''.join(result[::-1]))"
   ]
  },
  {
   "cell_type": "code",
   "execution_count": 225,
   "metadata": {},
   "outputs": [
    {
     "name": "stdout",
     "output_type": "stream",
     "text": [
      "ZZZZZ\n"
     ]
    }
   ],
   "source": [
    "n, b = map(int, input().split())\n",
    "\n",
    "dic = \"0123456789ABCDEFGHIJKLMNOPQRSTUVWXYZ\"\n",
    "res = ''\n",
    "while n:\n",
    "    res += dic[n%b]\n",
    "    n //= b\n",
    "\n",
    "print(res[::-1])"
   ]
  },
  {
   "cell_type": "markdown",
   "metadata": {},
   "source": [
    "# 세탁소 사장 동혁\n",
    "- 미국으로 유학간 동혁이는 세탁소를 운영하고 있다. 동혁이는 최근에 아르바이트로 고등학생 리암을 채용했다.\n",
    "\n",
    "- 동혁이는 리암에게 실망했다. 리암은 거스름돈을 주는 것을 자꾸 실수한다. 심지어 $0.5달러를 줘야하는 경우에 거스름돈으로 $5달러를 주는것이다!\n",
    "\n",
    "- 어쩔수 없이 뛰어난 코딩 실력을 발휘해 리암을 도와주는 프로그램을 작성하려고 하지만, 디아블로를 하느라 코딩할 시간이 없어서 이 문제를 읽고 있는 여러분이 대신 해주어야 한다.\n",
    "\n",
    "- 거스름돈의 액수가 주어지면 리암이 줘야할 쿼터(Quarter, $0.25)의 개수, 다임(Dime, $0.10)의 개수, 니켈(Nickel, $0.05)의 개수, 페니(Penny, $0.01)의 개수를 구하는 프로그램을 작성하시오. 거스름돈은 항상 $5.00 이하이고, 손님이 받는 동전의 개수를 최소로 하려고 한다. 예를 들어, $1.24를 거슬러 주어야 한다면, 손님은 4쿼터, 2다임, 0니켈, 4페니를 받게 된다."
   ]
  },
  {
   "cell_type": "code",
   "execution_count": 14,
   "metadata": {},
   "outputs": [
    {
     "name": "stdout",
     "output_type": "stream",
     "text": [
      "4 2 0 4\n",
      "1 0 0 0\n",
      "2 1 0 4\n"
     ]
    }
   ],
   "source": [
    "T = int(input())\n",
    "\n",
    "while T :\n",
    "    C = int(input())\n",
    "    res = []\n",
    "    for i in [25, 10, 5, 1] :\n",
    "        a = C//i\n",
    "        res.append(str(a))\n",
    "        C = C%i\n",
    "    T -= 1\n",
    "    print(' '.join(res))   "
   ]
  },
  {
   "cell_type": "markdown",
   "metadata": {},
   "source": [
    "# 중앙 이동 알고리즘\n",
    "- 상근이는 친구들과 함께 SF영화를 찍으려고 한다. 이 영화는 외계 지형이 필요하다. 실제로 우주선을 타고 외계 행성에 가서 촬영을 할 수 없기 때문에, 컴퓨터 그래픽으로 CG처리를 하려고 한다.\n",
    "\n",
    "- 외계 지형은 중앙 이동 알고리즘을 이용해서 만들려고 한다.\n",
    "\n",
    "- 알고리즘을 시작하면서 상근이는 정사각형을 이루는 점 4개를 고른다. 그 후에는 다음과 같은 과정을 거쳐서 지형을 만든다.\n",
    "\n",
    "    - 정사각형의 각 변의 중앙에 점을 하나 추가한다.\n",
    "    - 정사각형의 중심에 점을 하나 추가한다.\n",
    "- 초기 상태에서 위와 같은 과정을 한 번 거치면 총 4개의 정사각형이 새로 생긴다. 이와 같은 과정을 상근이가 만족할 때 까지 계속한다."
   ]
  },
  {
   "cell_type": "code",
   "execution_count": 18,
   "metadata": {},
   "outputs": [
    {
     "name": "stdout",
     "output_type": "stream",
     "text": [
      "1089\n"
     ]
    }
   ],
   "source": [
    "n = int(input())\n",
    "\n",
    "c = 2\n",
    "while n :\n",
    "    c = c + (c-1)\n",
    "    n -= 1\n",
    "print(c**2)"
   ]
  },
  {
   "cell_type": "markdown",
   "metadata": {},
   "source": [
    "# 벌집\n",
    "- 위의 그림과 같이 육각형으로 이루어진 벌집이 있다. 그림에서 보는 바와 같이 중앙의 방 1부터 시작해서 이웃하는 방에 돌아가면서 1씩 증가하는 번호를 주소로 매길 수 있다. 숫자 N이 주어졌을 때, 벌집의 중앙 1에서 N번 방까지 최소 개수의 방을 지나서 갈 때 몇 개의 방을 지나가는지(시작과 끝을 포함하여)를 계산하는 프로그램을 작성하시오. 예를 들면, 13까지는 3개, 58까지는 5개를 지난다."
   ]
  },
  {
   "cell_type": "code",
   "execution_count": 73,
   "metadata": {},
   "outputs": [
    {
     "name": "stdout",
     "output_type": "stream",
     "text": [
      "4\n"
     ]
    }
   ],
   "source": [
    "n = int(input()) -1\n",
    "t = 1\n",
    "for i in range(1, n+1) :\n",
    "    n = n - 6*i\n",
    "    t += 1\n",
    "    if n <= 0 :\n",
    "        break\n",
    "    \n",
    "print(t)"
   ]
  },
  {
   "cell_type": "code",
   "execution_count": 74,
   "metadata": {},
   "outputs": [
    {
     "name": "stdout",
     "output_type": "stream",
     "text": [
      "3\n"
     ]
    }
   ],
   "source": [
    "n = int(input())\n",
    "t = 1\n",
    "while n >1 :\n",
    "    n -= 6*t\n",
    "    t += 1\n",
    "print(t)"
   ]
  },
  {
   "cell_type": "markdown",
   "metadata": {},
   "source": [
    "# 분수찾기\n",
    "- 무한히 큰 배열에 다음과 같이 분수들이 적혀있다.\n",
    "- 이와 같이 나열된 분수들을 1/1 → 1/2 → 2/1 → 3/1 → 2/2 → … 과 같은 지그재그 순서로 차례대로 1번, 2번, 3번, 4번, 5번, … 분수라고 하자.\n",
    "- X가 주어졌을 때, X번째 분수를 구하는 프로그램을 작성하시오."
   ]
  },
  {
   "cell_type": "code",
   "execution_count": 4,
   "metadata": {},
   "outputs": [
    {
     "name": "stdout",
     "output_type": "stream",
     "text": [
      "2/2\n"
     ]
    }
   ],
   "source": [
    "x = int(input())\n",
    "\n",
    "line = 1\n",
    "while x > line :\n",
    "    x -= line\n",
    "    line += 1\n",
    "    \n",
    "if line%2 == 0 :\n",
    "    a = x\n",
    "    b = line - x + 1\n",
    "elif line%2 == 1 :\n",
    "    a = line - x + 1\n",
    "    b = x\n",
    "a, b = str(a), str(b)\n",
    "print(a+\"/\"+b)"
   ]
  },
  {
   "cell_type": "markdown",
   "metadata": {},
   "source": [
    "# 달팽이는 올라가고 싶다 \n",
    "- 땅 위에 달팽이가 있다. 이 달팽이는 높이가 V미터인 나무 막대를 올라갈 것이다.\n",
    "\n",
    "- 달팽이는 낮에 A미터 올라갈 수 있다. 하지만, 밤에 잠을 자는 동안 B미터 미끄러진다. 또, 정상에 올라간 후에는 미끄러지지 않는다.\n",
    "\n",
    "- 달팽이가 나무 막대를 모두 올라가려면, 며칠이 걸리는지 구하는 프로그램을 작성하시오."
   ]
  },
  {
   "cell_type": "code",
   "execution_count": 38,
   "metadata": {},
   "outputs": [
    {
     "name": "stdout",
     "output_type": "stream",
     "text": [
      "999999901\n"
     ]
    }
   ],
   "source": [
    "a, b, v = map(int, input().split())\n",
    "\n",
    "count = (v-b)//(a - b)\n",
    "left = (v-b)%(a - b)\n",
    "\n",
    "if left == 0 :\n",
    "    print(count)\n",
    "else :\n",
    "    print(count + 1)"
   ]
  },
  {
   "cell_type": "code",
   "execution_count": 42,
   "metadata": {},
   "outputs": [
    {
     "name": "stdout",
     "output_type": "stream",
     "text": [
      "999999901\n"
     ]
    }
   ],
   "source": [
    "# 다른 사람 풀이\n",
    "\n",
    "a, b, v = map(int, input().split())\n",
    "\n",
    "c = (v - b) / (a - b)\n",
    "if c == int(c) :\n",
    "    print(int(c))\n",
    "else :\n",
    "    print(int(c) + 1)"
   ]
  }
 ],
 "metadata": {
  "kernelspec": {
   "display_name": "ohio",
   "language": "python",
   "name": "python3"
  },
  "language_info": {
   "codemirror_mode": {
    "name": "ipython",
    "version": 3
   },
   "file_extension": ".py",
   "mimetype": "text/x-python",
   "name": "python",
   "nbconvert_exporter": "python",
   "pygments_lexer": "ipython3",
   "version": "3.12.4"
  }
 },
 "nbformat": 4,
 "nbformat_minor": 2
}
