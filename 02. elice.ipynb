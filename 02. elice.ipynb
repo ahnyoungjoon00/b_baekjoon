{
 "cells": [
  {
   "cell_type": "markdown",
   "metadata": {},
   "source": [
    "## Elice 1일차 문제 풀이"
   ]
  },
  {
   "cell_type": "code",
   "execution_count": 2,
   "metadata": {},
   "outputs": [
    {
     "ename": "IndexError",
     "evalue": "list index out of range",
     "output_type": "error",
     "traceback": [
      "\u001b[0;31m---------------------------------------------------------------------------\u001b[0m",
      "\u001b[0;31mIndexError\u001b[0m                                Traceback (most recent call last)",
      "Cell \u001b[0;32mIn[2], line 14\u001b[0m\n\u001b[1;32m     11\u001b[0m     \u001b[38;5;28;01mreturn\u001b[39;00m \u001b[38;5;28mprint\u001b[39m(\u001b[38;5;28mint\u001b[39m(\u001b[38;5;124m'\u001b[39m\u001b[38;5;124m'\u001b[39m\u001b[38;5;241m.\u001b[39mjoin(\u001b[38;5;28mmap\u001b[39m(\u001b[38;5;28mstr\u001b[39m, num_lst))))\n\u001b[1;32m     13\u001b[0m count \u001b[38;5;241m=\u001b[39m \u001b[38;5;28minput\u001b[39m()\n\u001b[0;32m---> 14\u001b[0m \u001b[43mcreate_num\u001b[49m\u001b[43m(\u001b[49m\u001b[43mcount\u001b[49m\u001b[43m)\u001b[49m\n",
      "Cell \u001b[0;32mIn[2], line 5\u001b[0m, in \u001b[0;36mcreate_num\u001b[0;34m(count)\u001b[0m\n\u001b[1;32m      3\u001b[0m num_lst \u001b[38;5;241m=\u001b[39m [\u001b[38;5;28mint\u001b[39m(d) \u001b[38;5;28;01mfor\u001b[39;00m d \u001b[38;5;129;01min\u001b[39;00m num]\n\u001b[1;32m      4\u001b[0m i, j \u001b[38;5;241m=\u001b[39m \u001b[38;5;241m1\u001b[39m, \u001b[38;5;241m1\u001b[39m\n\u001b[0;32m----> 5\u001b[0m \u001b[38;5;28;01mwhile\u001b[39;00m \u001b[43mnum_lst\u001b[49m\u001b[43m[\u001b[49m\u001b[38;5;241;43m-\u001b[39;49m\u001b[43mi\u001b[49m\u001b[43m]\u001b[49m \u001b[38;5;241m<\u001b[39m\u001b[38;5;241m=\u001b[39m num_lst[\u001b[38;5;241m-\u001b[39mi\u001b[38;5;241m-\u001b[39m\u001b[38;5;241m1\u001b[39m] :\n\u001b[1;32m      6\u001b[0m     i \u001b[38;5;241m+\u001b[39m\u001b[38;5;241m=\u001b[39m \u001b[38;5;241m1\u001b[39m\n\u001b[1;32m      7\u001b[0m \u001b[38;5;28;01mwhile\u001b[39;00m num_lst[\u001b[38;5;241m-\u001b[39mj] \u001b[38;5;241m<\u001b[39m\u001b[38;5;241m=\u001b[39m num_lst[\u001b[38;5;241m-\u001b[39mi\u001b[38;5;241m-\u001b[39m\u001b[38;5;241m1\u001b[39m] :\n",
      "\u001b[0;31mIndexError\u001b[0m: list index out of range"
     ]
    }
   ],
   "source": [
    "def create_num(count) :\n",
    "    num = list(count)\n",
    "    num_lst = [int(d) for d in num]\n",
    "    i, j = 1, 1\n",
    "    while num_lst[-i] <= num_lst[-i-1] :\n",
    "        i += 1\n",
    "    while num_lst[-j] <= num_lst[-i-1] :\n",
    "        j += 1\n",
    "    num_lst[-j], num_lst[-i-1] = num_lst[-i-1], num_lst[-j]\n",
    "    num_lst = num_lst[:-i] + sorted(num_lst[-i:])\n",
    "    return print(int(''.join(map(str, num_lst))))\n",
    "\n",
    "count = input()\n",
    "create_num(count)"
   ]
  },
  {
   "cell_type": "markdown",
   "metadata": {},
   "source": [
    "#### ㅊㅎㅈ 풀이식"
   ]
  },
  {
   "cell_type": "code",
   "execution_count": null,
   "metadata": {},
   "outputs": [
    {
     "name": "stdout",
     "output_type": "stream",
     "text": [
      "[4, 6, 3]\n",
      "436\n"
     ]
    }
   ],
   "source": [
    "today_num=int(input())\n",
    "\n",
    "num_list=[]\n",
    "for i in range(len(str(today_num))):\n",
    "    a= today_num // (10**(i)) % 10\n",
    "    num_list.append(a)\n",
    "print(num_list)\n",
    "from itertools import permutations\n",
    "        \n",
    "nums=list(permutations(num_list, len(str(today_num))))\n",
    "\n",
    "fin=[]\n",
    "for j in range(len(nums)) :\n",
    "    make_num=0\n",
    "    size= len(nums[j])\n",
    "    for k in range(size) :\n",
    "        make_num += nums[j][k] * (10**k)\n",
    "    if make_num > today_num :      \n",
    "        fin.append(make_num)\n",
    "print(min(fin))"
   ]
  },
  {
   "cell_type": "code",
   "execution_count": null,
   "metadata": {},
   "outputs": [],
   "source": []
  },
  {
   "cell_type": "markdown",
   "metadata": {},
   "source": [
    "## Elice 2일차 문제 풀이"
   ]
  },
  {
   "cell_type": "code",
   "execution_count": 32,
   "metadata": {},
   "outputs": [
    {
     "name": "stdout",
     "output_type": "stream",
     "text": [
      "6\n",
      "6\n",
      "5\n"
     ]
    }
   ],
   "source": [
    "n, m = map(int, input().split())\n",
    "a = list(map(int, input().split()))\n",
    "ijk= [tuple(map(int, input().split())) for _ in range(m)]\n",
    "\n",
    "for i, j, k in ijk :\n",
    "    result = sorted(a[i-1 : j])[k-1]\n",
    "    print(result)"
   ]
  },
  {
   "cell_type": "markdown",
   "metadata": {},
   "source": [
    "#### test_code"
   ]
  },
  {
   "cell_type": "code",
   "execution_count": null,
   "metadata": {},
   "outputs": [],
   "source": [
    "n = 8 # 배열의 숫자 개수 < 10000\n",
    "m = 3 # 일을 몇번 반복했는지 (답이 몇개 나와야하는가) < 500\n",
    "\n",
    "a = {1, 7, 6, 8, 1, 6, 4, 5} # 배열 < |200|\n",
    "\n",
    "i, j = 1, 5 # 범위 < n\n",
    "k = 3 # 정렬 후 몇번째 수"
   ]
  },
  {
   "cell_type": "code",
   "execution_count": 31,
   "metadata": {},
   "outputs": [
    {
     "name": "stdout",
     "output_type": "stream",
     "text": [
      "6\n",
      "6\n",
      "5\n"
     ]
    }
   ],
   "source": [
    "input_data = [\n",
    "    \"8 3\",\n",
    "    \"1 7 6 8 1 6 4 5\",\n",
    "    \"1 5 3\",\n",
    "    \"2 6 2\",\n",
    "    \"4 8 3\"\n",
    "]\n",
    "\n",
    "# input_data = input().splitlines()\n",
    "n, m = map(int, input_data[0].split())\n",
    "a = list(map(int, input_data[1].split()))\n",
    "ijk= [tuple(map(int, input_data[i].split())) for i in range(2, 2 + m)]\n",
    "\n",
    "for i, j, k in ijk :\n",
    "    a[i-1 : j]\n",
    "    sorted(a[i-1 : j])\n",
    "    result = sorted(a[i-1 : j])[k-1]\n",
    "    print(result)"
   ]
  }
 ],
 "metadata": {
  "kernelspec": {
   "display_name": "ohio",
   "language": "python",
   "name": "python3"
  },
  "language_info": {
   "codemirror_mode": {
    "name": "ipython",
    "version": 3
   },
   "file_extension": ".py",
   "mimetype": "text/x-python",
   "name": "python",
   "nbconvert_exporter": "python",
   "pygments_lexer": "ipython3",
   "version": "3.12.4"
  }
 },
 "nbformat": 4,
 "nbformat_minor": 2
}
