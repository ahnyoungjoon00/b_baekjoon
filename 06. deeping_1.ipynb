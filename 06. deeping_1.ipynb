{
 "cells": [
  {
   "cell_type": "markdown",
   "metadata": {},
   "source": [
    "# 새싹\n",
    "- 아래 예제와 같이 새싹을 출력하시오."
   ]
  },
  {
   "cell_type": "code",
   "execution_count": 12,
   "metadata": {},
   "outputs": [
    {
     "name": "stdout",
     "output_type": "stream",
     "text": [
      "         ,r'\"7\n",
      "r`-_   ,'  ,/\n",
      " \\. \". L_r'\n",
      "   `~\\/\n",
      "      |\n",
      "      |\n"
     ]
    }
   ],
   "source": [
    "print(\"         ,r'\\\"7\")\n",
    "print(\"r`-_   ,'  ,/\")\n",
    "print(\" \\\\. \\\". L_r'\")\n",
    "print('   `~\\\\/')\n",
    "print('      |')\n",
    "print('      |')"
   ]
  },
  {
   "cell_type": "markdown",
   "metadata": {},
   "source": [
    "# 킹, 퀸, 룩, 비숍, 나이트, 폰\n",
    "- 동혁이는 오래된 창고를 뒤지다가 낡은 체스판과 피스를 발견했다.\n",
    "\n",
    "체스판의 먼지를 털어내고 걸레로 닦으니 그럭저럭 쓸만한 체스판이 되었다. 하지만, 검정색 피스는 모두 있었으나, 흰색 피스는 개수가 올바르지 않았다.\n",
    "\n",
    "체스는 총 16개의 피스를 사용하며, 킹 1개, 퀸 1개, 룩 2개, 비숍 2개, 나이트 2개, 폰 8개로 구성되어 있다.\n",
    "\n",
    "동혁이가 발견한 흰색 피스의 개수가 주어졌을 때, 몇 개를 더하거나 빼야 올바른 세트가 되는지 구하는 프로그램을 작성하시오."
   ]
  },
  {
   "cell_type": "code",
   "execution_count": 32,
   "metadata": {},
   "outputs": [
    {
     "name": "stdout",
     "output_type": "stream",
     "text": [
      "-1 0 0 1 0 7\n"
     ]
    }
   ],
   "source": [
    "col = [1, 1, 2, 2, 2, 8]\n",
    "left = list(map(int, input().split()))\n",
    "\n",
    "res = []\n",
    "for i in range(len(col)) :\n",
    "    r = col[i] - left[i]\n",
    "    res.append(r)\n",
    "print(' '.join(map(str, res)))"
   ]
  },
  {
   "cell_type": "markdown",
   "metadata": {},
   "source": [
    "# 별 찍기 - 7\n",
    "- 예제를 보고 규칙을 유추한 뒤에 별을 찍어 보세요."
   ]
  },
  {
   "cell_type": "code",
   "execution_count": 69,
   "metadata": {},
   "outputs": [
    {
     "name": "stdout",
     "output_type": "stream",
     "text": [
      "    *\n",
      "   ***\n",
      "  *****\n",
      " *******\n",
      "*********\n",
      " *******\n",
      "  *****\n",
      "   ***\n",
      "    *\n"
     ]
    }
   ],
   "source": [
    "n = int(input())\n",
    "\n",
    "for i in range(1, n+1) :\n",
    "    print(\" \"*(n-i) + \"*\"*((i)*2-1))\n",
    "for i in range(1, n) :\n",
    "    print(\" \"*i +\"*\"*(2*(n-i)-1))"
   ]
  },
  {
   "cell_type": "markdown",
   "metadata": {},
   "source": [
    "# 팰린드롬인지 확인하기\n",
    "- 알파벳 소문자로만 이루어진 단어가 주어진다. 이때, 이 단어가 팰린드롬인지 아닌지 확인하는 프로그램을 작성하시오.\n",
    "\n",
    "팰린드롬이란 앞으로 읽을 때와 거꾸로 읽을 때 똑같은 단어를 말한다. \n",
    "\n",
    "level, noon은 팰린드롬이고, baekjoon, online, judge는 팰린드롬이 아니다."
   ]
  },
  {
   "cell_type": "code",
   "execution_count": 22,
   "metadata": {},
   "outputs": [
    {
     "name": "stdout",
     "output_type": "stream",
     "text": [
      "0\n"
     ]
    }
   ],
   "source": [
    "n = input()\n",
    "for i in range(len(n)) :\n",
    "    if n[i-1] == n[-i] :\n",
    "        res = True\n",
    "    else :\n",
    "        res = False\n",
    "        break\n",
    "\n",
    "if res == True :\n",
    "    print(1)\n",
    "else :\n",
    "    print(0)"
   ]
  },
  {
   "cell_type": "markdown",
   "metadata": {},
   "source": [
    "# 단어 공부\n",
    "- 알파벳 대소문자로 된 단어가 주어지면, 이 단어에서 가장 많이 사용된 알파벳이 무엇인지 알아내는 프로그램을 작성하시오. 단, 대문자와 소문자를 구분하지 않는다."
   ]
  },
  {
   "cell_type": "code",
   "execution_count": 67,
   "metadata": {},
   "outputs": [
    {
     "name": "stdout",
     "output_type": "stream",
     "text": [
      "Z\n"
     ]
    }
   ],
   "source": [
    "n = list(input().upper())\n",
    "set_n = list(set(n))\n",
    "count = []\n",
    "for i in set_n :\n",
    "    cnt = n.count\n",
    "    count.append(cnt(i))\n",
    "\n",
    "if count.count(max(count)) > 1 :\n",
    "    print(\"?\")\n",
    "else :\n",
    "    print(set_n[(count.index(max(count)))])"
   ]
  },
  {
   "cell_type": "markdown",
   "metadata": {},
   "source": [
    "# 크로아티아 알파벳\n",
    "- 예전에는 운영체제에서 크로아티아 알파벳을 입력할 수가 없었다. 따라서, 다음과 같이 크로아티아 알파벳을 변경해서 입력했다.\n",
    "- 예를 들어, ljes=njak은 크로아티아 알파벳 6개(lj, e, š, nj, a, k)로 이루어져 있다. 단어가 주어졌을 때, 몇 개의 크로아티아 알파벳으로 이루어져 있는지 출력한다.\n",
    "\n",
    "- dž는 무조건 하나의 알파벳으로 쓰이고, d와 ž가 분리된 것으로 보지 않는다. lj와 nj도 마찬가지이다. 위 목록에 없는 알파벳은 한 글자씩 센다.\n",
    "    - č\t----- c=\n",
    "    - ć\t----- c-\n",
    "    - dž\t----- dz=\n",
    "    - đ\t----- d-\n",
    "    - lj\t----- lj\n",
    "    - nj\t----- nj\n",
    "    - š\t----- s=\n",
    "    - ž\t----- z="
   ]
  },
  {
   "cell_type": "code",
   "execution_count": 5,
   "metadata": {},
   "outputs": [
    {
     "name": "stdout",
     "output_type": "stream",
     "text": [
      "3\n"
     ]
    }
   ],
   "source": [
    "cro_dic = [\"c=\", \"c-\", \"dz=\", \"d-\", \"lj\", \"nj\", \"s=\", \"z=\"]\n",
    "n = input()\n",
    "\n",
    "for i in cro_dic :\n",
    "    n = n.replace(i, \"0\")\n",
    "print(len(n))"
   ]
  },
  {
   "cell_type": "markdown",
   "metadata": {},
   "source": [
    "# 그룹 단어 체커\n",
    "- 그룹 단어란 단어에 존재하는 모든 문자에 대해서, 각 문자가 연속해서 나타나는 경우만을 말한다. 예를 들면, ccazzzzbb는 c, a, z, b가 모두 연속해서 나타나고, kin도 k, i, n이 연속해서 나타나기 때문에 그룹 단어이지만, aabbbccb는 b가 떨어져서 나타나기 때문에 그룹 단어가 아니다.\n",
    "\n",
    "- 단어 N개를 입력으로 받아 그룹 단어의 개수를 출력하는 프로그램을 작성하시오."
   ]
  },
  {
   "cell_type": "code",
   "execution_count": null,
   "metadata": {},
   "outputs": [],
   "source": [
    "import sys\n",
    "\n",
    "n = int(input())\n",
    "lst = list(map(str, sys.stdin.read().split()))\n",
    "\n",
    "for sen in lst :\n",
    "    for j in range(len(sen)-1) :\n",
    "        if sen[j] == sen[j+1] :\n",
    "            pass\n",
    "        elif sen[j] in sen[j+1:] :\n",
    "            n -= 1\n",
    "            break\n",
    "print(n)"
   ]
  },
  {
   "cell_type": "code",
   "execution_count": 13,
   "metadata": {},
   "outputs": [
    {
     "name": "stdout",
     "output_type": "stream",
     "text": [
      "1\n"
     ]
    }
   ],
   "source": [
    "n = int(input())\n",
    "N = n\n",
    "m = 0\n",
    "while m < N :\n",
    "    try :\n",
    "        sen = input()\n",
    "        m += 1\n",
    "        for i in range(len(sen)-1) :\n",
    "            if sen[i] == sen[i+1] :\n",
    "                pass\n",
    "            elif sen[i] in sen[i+1:] :\n",
    "                n -= 1\n",
    "                break\n",
    "    except :\n",
    "        break\n",
    "print(n)"
   ]
  },
  {
   "cell_type": "code",
   "execution_count": null,
   "metadata": {},
   "outputs": [],
   "source": [
    "n = int(input())\n",
    "\n",
    "while True :\n",
    "    try :\n",
    "        sen = input()\n",
    "        for i in range(len(sen)-1) :\n",
    "            if sen[i] == sen[i+1] :\n",
    "                pass\n",
    "            elif sen[i] in sen[i+1:] :\n",
    "                n -= 1\n",
    "                break\n",
    "    except :\n",
    "        break\n",
    "print(n)"
   ]
  },
  {
   "cell_type": "markdown",
   "metadata": {},
   "source": [
    "# 너의 평점은\n",
    "- 인하대학교 컴퓨터공학과를 졸업하기 위해서는, 전공평점이 3.3 이상이거나 졸업고사를 통과해야 한다. 그런데 아뿔싸, 치훈이는 깜빡하고 졸업고사를 응시하지 않았다는 사실을 깨달았다!\n",
    "\n",
    "- 치훈이의 전공평점을 계산해주는 프로그램을 작성해보자.\n",
    "\n",
    "- 전공평점은 전공과목별 (학점 × 과목평점)의 합을 학점의 총합으로 나눈 값이다.\n",
    "\n",
    "- 인하대학교 컴퓨터공학과의 등급에 따른 과목평점은 다음 표와 같다.\n",
    "\n",
    "    - A+ -----------4.5\n",
    "    - A0 -----------4.0\n",
    "    - B+ -----------3.5\n",
    "    - B0 -----------3.0\n",
    "    - C+ -----------2.5\n",
    "    - C0 -----------2.0\n",
    "    - D+ -----------1.5\n",
    "    - D0 -----------1.0\n",
    "    - F ----------- 0.0\n",
    "\n",
    "- P/F 과목의 경우 등급이 P또는 F로 표시되는데, 등급이 P인 과목은 계산에서 제외해야 한다.\n",
    "\n",
    "- 과연 치훈이는 무사히 졸업할 수 있을까?\n",
    "\n"
   ]
  },
  {
   "cell_type": "code",
   "execution_count": 37,
   "metadata": {},
   "outputs": [],
   "source": [
    "score = []\n",
    "while True :\n",
    "    try :\n",
    "        ijk = tuple(map(str, input().split()))\n",
    "        if not ijk :\n",
    "            break\n",
    "        score.append(ijk)\n",
    "    except :\n",
    "        break\n",
    "\n",
    "dic = {\"A+\":4.5, \"A0\":4.0, \"B+\":3.5, \"B0\":3.0, \"C+\":2.5, \n",
    "       \"C0\":2.0, \"D+\":1.5, \"D0\":1.0, \"F\":0.0}\n",
    "new_score = []\n",
    "for i, j, k in score:\n",
    "    if k not in dic :\n",
    "        continue\n",
    "    s = (i, float(j), dic.get(k, k), float(j)*dic.get(k, 0))\n",
    "    new_score.append(s)\n",
    "\n",
    "p = 0\n",
    "tts = 0\n",
    "for _, t, _, ts in new_score :\n",
    "    p += t\n",
    "    tts += ts\n",
    "print(tts/p)"
   ]
  },
  {
   "cell_type": "code",
   "execution_count": 80,
   "metadata": {},
   "outputs": [
    {
     "name": "stdout",
     "output_type": "stream",
     "text": [
      "0.0\n"
     ]
    }
   ],
   "source": [
    "dic = {\"A+\":4.5, \"A0\":4.0, \"B+\":3.5, \"B0\":3.0, \"C+\":2.5, \n",
    "       \"C0\":2.0, \"D+\":1.5, \"D0\":1.0, \"F\":0.0}\n",
    "\n",
    "total_score = 0\n",
    "total_grade = 0\n",
    "while True :\n",
    "    try :\n",
    "       sub, score, grade = input().split()\n",
    "       if grade not in dic :\n",
    "           continue\n",
    "       total_score += float(score)\n",
    "       total_grade += float(score) * dic[grade]\n",
    "    except :\n",
    "        break\n",
    "\n",
    "print(total_grade/total_score)"
   ]
  },
  {
   "cell_type": "code",
   "execution_count": null,
   "metadata": {},
   "outputs": [],
   "source": []
  }
 ],
 "metadata": {
  "kernelspec": {
   "display_name": "ohio",
   "language": "python",
   "name": "python3"
  },
  "language_info": {
   "codemirror_mode": {
    "name": "ipython",
    "version": 3
   },
   "file_extension": ".py",
   "mimetype": "text/x-python",
   "name": "python",
   "nbconvert_exporter": "python",
   "pygments_lexer": "ipython3",
   "version": "3.12.4"
  }
 },
 "nbformat": 4,
 "nbformat_minor": 2
}
