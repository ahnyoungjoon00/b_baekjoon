{
 "cells": [
  {
   "cell_type": "code",
   "execution_count": null,
   "metadata": {},
   "outputs": [],
   "source": [
    "class Test:\n",
    "    def __init__(self, value):\n",
    "        self.value = int(value)\n",
    "\n",
    "    def __add__(self, other):\n",
    "        if isinstance(other, Test):\n",
    "            return Test(self.value + other.value)\n",
    "        return Test(self.value + other)\n",
    "\n",
    "    def __sub__(self, other):\n",
    "        if isinstance(other, Test):\n",
    "            return Test(self.value - other.value)\n",
    "        return Test(self.value - other)\n",
    "\n",
    "    def __repr__(self):\n",
    "        return f\"Test({self.value})\"\n",
    "\n",
    "# 사용 예시\n",
    "obj1 = Test(10)\n",
    "obj2 = Test(20)\n",
    "\n",
    "# + 연산자 오버로딩\n",
    "result_add = obj1 + obj2  # Test(30)\n",
    "print(result_add)\n",
    "\n",
    "# - 연산자 오버로딩\n",
    "result_sub = obj1 - 5  # Test(5)\n",
    "print(result_sub)\n",
    "\n",
    "# + 연산자 오버로딩 (정수와 더하기)\n",
    "result_add_int = obj1 + 15  # Test(25)\n",
    "print(result_add_int)\n"
   ]
  }
 ],
 "metadata": {
  "language_info": {
   "name": "python"
  }
 },
 "nbformat": 4,
 "nbformat_minor": 2
}
