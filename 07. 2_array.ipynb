{
 "cells": [
  {
   "cell_type": "markdown",
   "metadata": {},
   "source": [
    "# 행렬 덧셈\n",
    "- N*M크기의 두 행렬 A와 B가 주어졌을 때, 두 행렬을 더하는 프로그램을 작성하시오."
   ]
  },
  {
   "cell_type": "code",
   "execution_count": 2,
   "metadata": {},
   "outputs": [
    {
     "name": "stdout",
     "output_type": "stream",
     "text": [
      "4 4 4 \n",
      "6 6 6 \n",
      "5 6 100 \n"
     ]
    }
   ],
   "source": [
    "n, m = map(int, input().split())\n",
    "a = [list(map(int, input().split())) for _ in range(n)]\n",
    "b = [list(map(int, input().split())) for _ in range(n)]\n",
    "\n",
    "for i in range(n) :\n",
    "    for j in range(m) :\n",
    "        c = a[i][j] + b[i][j]\n",
    "        print(c, end = ' ')\n",
    "    print()"
   ]
  },
  {
   "cell_type": "code",
   "execution_count": 3,
   "metadata": {},
   "outputs": [
    {
     "name": "stdout",
     "output_type": "stream",
     "text": [
      "5 5 5 \n",
      "7 7 7 \n",
      "5 6 100 \n"
     ]
    }
   ],
   "source": [
    "n, m = map(int, input().split())\n",
    "\n",
    "A, B = [], []\n",
    "\n",
    "for i in range(n) :\n",
    "    a = list(map(int, input().split()))\n",
    "    A.append(a)\n",
    "for i in range(n) :\n",
    "    b = list(map(int, input().split()))\n",
    "    B.append(b)\n",
    "\n",
    "for i in range(n) :\n",
    "    for j in range(m) :\n",
    "        c = A[i][j] + B[i][j]\n",
    "        print(c, end = ' ')\n",
    "    print()"
   ]
  },
  {
   "cell_type": "markdown",
   "metadata": {},
   "source": [
    "# 최댓값\n",
    "-<그림 1>과 같이 9×9 격자판에 쓰여진 81개의 자연수 또는 0이 주어질 때, 이들 중 최댓값을 찾고 그 최댓값이 몇 행 몇 열에 위치한 수인지 구하는 프로그램을 작성하시오."
   ]
  },
  {
   "cell_type": "code",
   "execution_count": 5,
   "metadata": {},
   "outputs": [],
   "source": [
    "A = []\n",
    "while True :\n",
    "    try :\n",
    "        a = list(map(int, input().split()))\n",
    "        if not a :\n",
    "            break\n",
    "        A.append(a)\n",
    "    except :\n",
    "        break\n",
    "\n",
    "max_num = 0\n",
    "r, c = 0, 0\n",
    "for i in range(len(A)) :\n",
    "    for j in range(len(A)) :\n",
    "        if max_num <= A[i][j] :\n",
    "            max_num = A[i][j]\n",
    "            max_r = i + 1\n",
    "            max_c = j + 1\n",
    "print(max_num)\n",
    "print(max_r, max_c)"
   ]
  },
  {
   "cell_type": "code",
   "execution_count": 25,
   "metadata": {},
   "outputs": [
    {
     "name": "stdout",
     "output_type": "stream",
     "text": [
      "90\n",
      "5 7\n"
     ]
    }
   ],
   "source": [
    "A = [list(map(int, input().split())) for _ in range(9)]\n",
    "\n",
    "max_num = 0\n",
    "r, c = 0, 0\n",
    "for i in range(len(A)) :\n",
    "    for j in range(len(A)) :\n",
    "        if max_num <= A[i][j] :\n",
    "            max_num = A[i][j]\n",
    "            max_r = i + 1\n",
    "            max_c = j + 1\n",
    "print(max_num)\n",
    "print(max_r, max_c)"
   ]
  },
  {
   "cell_type": "markdown",
   "metadata": {},
   "source": [
    "# 세로읽기\n",
    "-아직 글을 모르는 영석이가 벽에 걸린 칠판에 자석이 붙어있는 글자들을 붙이는 장난감을 가지고 놀고 있다. \n",
    "\n",
    "- 이 장난감에 있는 글자들은 영어 대문자 ‘A’부터 ‘Z’, 영어 소문자 ‘a’부터 ‘z’, 숫자 ‘0’부터 ‘9’이다. 영석이는 칠판에 글자들을 수평으로 일렬로 붙여서 단어를 만든다. 다시 그 아래쪽에 글자들을 붙여서 또 다른 단어를 만든다. 이런 식으로 다섯 개의 단어를 만든다. 아래 그림 1은 영석이가 칠판에 붙여 만든 단어들의 예이다. \n",
    "\n",
    "- <그림 1>\n",
    "    - A A B C D D\n",
    "    - a f z z \n",
    "    - 0 9 1 2 1\n",
    "    - a 8 E W g 6\n",
    "    - P 5 h 3 k x\n",
    "\n",
    "- 한 줄의 단어는 글자들을 빈칸 없이 연속으로 나열해서 최대 15개의 글자들로 이루어진다. 또한 만들어진 다섯 개의 단어들의 글자 개수는 서로 다를 수 있다. \n",
    "\n",
    "- 심심해진 영석이는 칠판에 만들어진 다섯 개의 단어를 세로로 읽으려 한다. 세로로 읽을 때, 각 단어의 첫 번째 글자들을 위에서 아래로 세로로 읽는다. 다음에 두 번째 글자들을 세로로 읽는다. 이런 식으로 왼쪽에서 오른쪽으로 한 자리씩 이동 하면서 동일한 자리의 글자들을 세로로 읽어 나간다. 위의 그림 1의 다섯 번째 자리를 보면 두 번째 줄의 다섯 번째 자리의 글자는 없다. 이런 경우처럼 세로로 읽을 때 해당 자리의 글자가 없으면, 읽지 않고 그 다음 글자를 계속 읽는다. 그림 1의 다섯 번째 자리를 세로로 읽으면 D1gk로 읽는다. \n",
    "\n",
    "- 그림 1에서 영석이가 세로로 읽은 순서대로 글자들을 공백 없이 출력하면 다음과 같다:\n",
    "\n",
    "    - Aa0aPAf985Bz1EhCz2W3D1gkD6x\n",
    "\n",
    "- 칠판에 붙여진 단어들이 주어질 때, 영석이가 세로로 읽은 순서대로 글자들을 출력하는 프로그램을 작성하시오."
   ]
  },
  {
   "cell_type": "code",
   "execution_count": 33,
   "metadata": {},
   "outputs": [
    {
     "name": "stdout",
     "output_type": "stream",
     "text": [
      "Aa0aPAf985Bz1EhCz2W3\n"
     ]
    }
   ],
   "source": [
    "A = []\n",
    "while True :\n",
    "    try :\n",
    "        a = input()\n",
    "        if not a :\n",
    "            break\n",
    "        A.append(a)\n",
    "    except :\n",
    "        break\n",
    "\n",
    "max_r = max(len(i) for i in A)\n",
    "res = []\n",
    "\n",
    "for j in range(max_r) :\n",
    "        for i in range(len(A)) :\n",
    "              if j < len(A[i]) :\n",
    "                     res.append(A[i][j])\n",
    "print(''.join(res))"
   ]
  },
  {
   "cell_type": "markdown",
   "metadata": {},
   "source": [
    "# 색종이\n",
    "- 가로, 세로의 크기가 각각 100인 정사각형 모양의 흰색 도화지가 있다. 이 도화지 위에 가로, 세로의 크기가 각각 10인 정사각형 모양의 검은색 색종이를 색종이의 변과 도화지의 변이 평행하도록 붙인다. 이러한 방식으로 색종이를 한 장 또는 여러 장 붙인 후 색종이가 붙은 검은 영역의 넓이를 구하는 프로그램을 작성하시오."
   ]
  },
  {
   "cell_type": "code",
   "execution_count": 61,
   "metadata": {},
   "outputs": [
    {
     "name": "stdout",
     "output_type": "stream",
     "text": [
      "0\n"
     ]
    }
   ],
   "source": [
    "n = int(input())\n",
    "paper = [[0]*100 for _ in range(100)]\n",
    "\n",
    "while True :\n",
    "    try :\n",
    "        i, j = map(int, input().split())\n",
    "        if not i :\n",
    "            break\n",
    "        for a in range(i, i+10) :\n",
    "            for b in range(j, j+10) :\n",
    "                paper[a][b] = 1\n",
    "    except :\n",
    "        break\n",
    "print(sum(row.count(1) for row in paper))"
   ]
  }
 ],
 "metadata": {
  "kernelspec": {
   "display_name": "ohio",
   "language": "python",
   "name": "python3"
  },
  "language_info": {
   "codemirror_mode": {
    "name": "ipython",
    "version": 3
   },
   "file_extension": ".py",
   "mimetype": "text/x-python",
   "name": "python",
   "nbconvert_exporter": "python",
   "pygments_lexer": "ipython3",
   "version": "3.12.4"
  }
 },
 "nbformat": 4,
 "nbformat_minor": 2
}
